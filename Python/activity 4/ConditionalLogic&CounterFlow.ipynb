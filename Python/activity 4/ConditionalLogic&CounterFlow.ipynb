{
 "cells": [
  {
   "cell_type": "markdown",
   "id": "d5ccafde-8bf3-465f-bb09-27fc4f38db1c",
   "metadata": {},
   "source": [
    "# Review Questions 1"
   ]
  },
  {
   "cell_type": "code",
   "execution_count": 9,
   "id": "83628891-8e88-4f79-bf38-a03b5175b5f3",
   "metadata": {},
   "outputs": [
    {
     "name": "stdout",
     "output_type": "stream",
     "text": [
      "True\n",
      "False\n",
      "True\n",
      "True\n",
      "True\n",
      "False\n"
     ]
    }
   ],
   "source": [
    "print (1 <= 1)\n",
    "print (1 != 1)\n",
    "print (1 != 2)\n",
    "print (\"good\" != \"bad\")\n",
    "print (\"good\" != \"Good\")\n",
    "print (123 == \"123\")"
   ]
  },
  {
   "cell_type": "code",
   "execution_count": 13,
   "id": "960b3e36-585c-4d29-817d-7b6f7ae9bf2c",
   "metadata": {},
   "outputs": [
    {
     "name": "stdout",
     "output_type": "stream",
     "text": [
      "True\n",
      "True\n",
      "True\n",
      "True\n"
     ]
    }
   ],
   "source": [
    "print (3 < 4)\n",
    "print (10 > 5)\n",
    "print (\"jack\" <= \"jill\")\n",
    "\n",
    "print (42 == 42)"
   ]
  },
  {
   "cell_type": "markdown",
   "id": "790955bd-cff0-41b4-8351-bfc70bfc4559",
   "metadata": {},
   "source": [
    "# Review Questions 2"
   ]
  },
  {
   "cell_type": "code",
   "execution_count": 10,
   "id": "fc5d2a83-91cf-442c-8cd3-38734ba51f67",
   "metadata": {},
   "outputs": [
    {
     "name": "stdout",
     "output_type": "stream",
     "text": [
      "True\n",
      "False\n",
      "True\n",
      "False\n"
     ]
    }
   ],
   "source": [
    "print(1 <= 1) and (1 != 2)\n",
    "print(not (1 != 2))\n",
    "\n",
    "print(\"good\" != \"bad\" or False)\n",
    "print(\"good\" != \"Good\" and not (1 == 1))"
   ]
  },
  {
   "cell_type": "code",
   "execution_count": 11,
   "id": "186f0183-d75d-4f73-b320-60ea9fcbe0b7",
   "metadata": {},
   "outputs": [
    {
     "name": "stdout",
     "output_type": "stream",
     "text": [
      "True\n",
      "True\n",
      "False\n"
     ]
    },
    {
     "data": {
      "text/plain": [
       "True"
      ]
     },
     "execution_count": 11,
     "metadata": {},
     "output_type": "execute_result"
    }
   ],
   "source": [
    "print(False == (not True))\n",
    "print((True and False) == (True and False))\n",
    "\n",
    "print((not True) and (\"A\" == \"B\"))\n",
    "True"
   ]
  },
  {
   "cell_type": "markdown",
   "id": "2f06e641-fb88-439c-8b07-f0d6f35265fe",
   "metadata": {},
   "source": [
    "# Review Questions 3"
   ]
  },
  {
   "cell_type": "code",
   "execution_count": 17,
   "id": "c092dfc3-33ee-404d-994f-7917e12ef158",
   "metadata": {},
   "outputs": [
    {
     "name": "stdin",
     "output_type": "stream",
     "text": [
      "Input a word:  ralllos\n"
     ]
    },
    {
     "name": "stdout",
     "output_type": "stream",
     "text": [
      "The 'ralllos' has more than five characters.\n"
     ]
    }
   ],
   "source": [
    "words = input(\"Input a word: \")\n",
    "\n",
    "if len(words) < 5:\n",
    "    print(f\"The '{words}' has less than five characters.\")\n",
    "    \n",
    "elif len(words) > 5:\n",
    "    print(f\"The '{words}' has more than five characters.\")\n",
    "    \n",
    "else:\n",
    "    print(f\"The '{words}' has exactly five characters.\")"
   ]
  },
  {
   "cell_type": "markdown",
   "id": "76ecc1b7-6013-4f6c-8bb4-cea4e7bb3dce",
   "metadata": {},
   "source": [
    "# Review Questions 4"
   ]
  },
  {
   "cell_type": "code",
   "execution_count": 6,
   "id": "1a8a60b6-d319-4579-b71f-fe8273a96760",
   "metadata": {},
   "outputs": [
    {
     "name": "stdin",
     "output_type": "stream",
     "text": [
      "Enter anything (or 'Q' to stop):  Q\n"
     ]
    },
    {
     "name": "stdout",
     "output_type": "stream",
     "text": [
      "Ciao\n"
     ]
    }
   ],
   "source": [
    "isTrue = False\n",
    "while not isTrue:\n",
    "    userInput = input(\"Input: \")\n",
    "    if(userInput == \"Q\" or userInput == \"q\"):\n",
    "        isTrue = True;\n",
    "        break;"
   ]
  },
  {
   "cell_type": "code",
   "execution_count": 5,
   "id": "2fea594d-55b7-4326-8616-196f492e9b9f",
   "metadata": {},
   "outputs": [
    {
     "name": "stdout",
     "output_type": "stream",
     "text": [
      "1\n",
      "2\n",
      "4\n",
      "5\n",
      "7\n",
      "8\n",
      "10\n",
      "11\n",
      "13\n",
      "14\n",
      "16\n",
      "17\n",
      "19\n",
      "20\n",
      "22\n",
      "23\n",
      "25\n",
      "26\n",
      "28\n",
      "29\n",
      "31\n",
      "32\n",
      "34\n",
      "35\n",
      "37\n",
      "38\n",
      "40\n",
      "41\n",
      "43\n",
      "44\n",
      "46\n",
      "47\n",
      "49\n"
     ]
    }
   ],
   "source": [
    "for n in range(1, 50):\n",
    "    if n % 3 == 0:\n",
    "        continue\n",
    "    print(n)"
   ]
  },
  {
   "cell_type": "markdown",
   "id": "1be95f57-1282-4be9-ab60-21128fd2576a",
   "metadata": {},
   "source": [
    "# Review Questions 5"
   ]
  },
  {
   "cell_type": "code",
   "execution_count": 19,
   "id": "fb64424a-656a-4137-84e2-9b8e4cb829ad",
   "metadata": {},
   "outputs": [
    {
     "name": "stdin",
     "output_type": "stream",
     "text": [
      "Enter an integer:  5\n"
     ]
    },
    {
     "name": "stdout",
     "output_type": "stream",
     "text": [
      "An Integer: 5\n"
     ]
    }
   ],
   "source": [
    "while True:\n",
    "    try:\n",
    "        num = int(input(\"Enter an integer: \"))\n",
    "        print(f\"An Integer: {num}\")\n",
    "        break  \n",
    "    except ValueError:\n",
    "        print(\"That’s not an integer, try again.\")"
   ]
  },
  {
   "cell_type": "code",
   "execution_count": 18,
   "id": "102f3dbb-3413-41b7-b543-87d714096947",
   "metadata": {},
   "outputs": [
    {
     "name": "stdin",
     "output_type": "stream",
     "text": [
      "Enter a string:  word\n",
      "Enter an integer index n:  1\n"
     ]
    },
    {
     "name": "stdout",
     "output_type": "stream",
     "text": [
      "The character at index 1 is 'o'.\n"
     ]
    }
   ],
   "source": [
    "user_string = input(\"Enter a string: \")\n",
    "\n",
    "n = int(input(\"Enter an integer index n: \"))\n",
    "\n",
    "if 0 <= n < len(user_string):\n",
    "    print(f\"The character at index {n} is '{user_string[n]}'.\")\n",
    "    \n",
    "else:\n",
    "    print(\"Invalid: Index out of range.\")"
   ]
  },
  {
   "cell_type": "markdown",
   "id": "8573dcdc-d3f0-449f-bc92-44c2b3b58b43",
   "metadata": {},
   "source": [
    "# Review Questions 6"
   ]
  },
  {
   "cell_type": "code",
   "execution_count": 24,
   "id": "5ce754f0-77f3-4b29-b0f7-11b4b3df9b29",
   "metadata": {},
   "outputs": [
    {
     "data": {
      "text/plain": [
       "6"
      ]
     },
     "execution_count": 24,
     "metadata": {},
     "output_type": "execute_result"
    }
   ],
   "source": [
    "import random\n",
    "def roll():\n",
    "    return random.randint(1,6)\n",
    "    roll()"
   ]
  },
  {
   "cell_type": "code",
   "execution_count": 23,
   "id": "19a3ad6e-6aab-456e-bc00-86e1fc0efba5",
   "metadata": {},
   "outputs": [
    {
     "name": "stdout",
     "output_type": "stream",
     "text": [
      "Average number rolled is : 3.49\n"
     ]
    }
   ],
   "source": [
    "import random\n",
    "def roll():\n",
    "    return random.randint(1,6)\n",
    "total = 0\n",
    "for trial in range(1,10000):\n",
    "    total += roll()\n",
    "       \n",
    "    Average_number = total / 10000 \n",
    "    print(f'Average number rolled is : {Average_number:.2f}')"
   ]
  },
  {
   "cell_type": "markdown",
   "id": "5a99bd77-a6d9-4d7c-9c70-0028c83560ec",
   "metadata": {},
   "source": [
    "# Challenge Questions"
   ]
  },
  {
   "cell_type": "code",
   "execution_count": 29,
   "id": "699641bd-2c00-4d54-a907-de8c4be2e3d2",
   "metadata": {},
   "outputs": [
    {
     "name": "stdout",
     "output_type": "stream",
     "text": [
      "Candidate A wins\n",
      "Estimated probability Candidate A wins overall: 63.01%\n"
     ]
    }
   ],
   "source": [
    "import random\n",
    "\n",
    "prob_region_1 = 0.87\n",
    "prob_region_2 = 0.65\n",
    "prob_region_3 = 0.17\n",
    "\n",
    "def simulate_election():\n",
    "    \"\"\"Simulate a single election.\"\"\"\n",
    "    wins = 0\n",
    "    if random.random() < prob_region_1:\n",
    "        wins += 1\n",
    "    if random.random() < prob_region_2:\n",
    "        wins += 1\n",
    "    if random.random() < prob_region_3:\n",
    "        wins += 1\n",
    "    return wins >= 2  \n",
    "\n",
    "single_result = simulate_election()\n",
    "print(\"Candidate A wins\" if single_result else \"Candidate B wins\")\n",
    "\n",
    "trials = 100000\n",
    "a_wins = sum(simulate_election() for _ in range(trials))\n",
    "estimated_probability = a_wins / trials\n",
    "\n",
    "print(f\"Estimated probability Candidate A wins overall: {estimated_probability:.2%}\")\n"
   ]
  }
 ],
 "metadata": {
  "kernelspec": {
   "display_name": "Python 3 (ipykernel)",
   "language": "python",
   "name": "python3"
  },
  "language_info": {
   "codemirror_mode": {
    "name": "ipython",
    "version": 3
   },
   "file_extension": ".py",
   "mimetype": "text/x-python",
   "name": "python",
   "nbconvert_exporter": "python",
   "pygments_lexer": "ipython3",
   "version": "3.13.5"
  }
 },
 "nbformat": 4,
 "nbformat_minor": 5
}
