{
 "cells": [
  {
   "cell_type": "markdown",
   "id": "be344604-f766-43b2-ad6a-49dbf096e3df",
   "metadata": {},
   "source": [
    "# Review Question 1"
   ]
  },
  {
   "cell_type": "code",
   "execution_count": 22,
   "id": "44e56da6-c40e-4a9a-ba93-6e145105ed49",
   "metadata": {},
   "outputs": [
    {
     "name": "stdout",
     "output_type": "stream",
     "text": [
      "Length of 'Hello Christ': 12\n"
     ]
    }
   ],
   "source": [
    "christ = \"Hello Christ\"\n",
    "print(f\"Length of '{christ}': {len(christ)}\")"
   ]
  },
  {
   "cell_type": "code",
   "execution_count": 35,
   "id": "bac3ad1e-02c4-40dc-81af-41c31e5b19aa",
   "metadata": {},
   "outputs": [
    {
     "name": "stdout",
     "output_type": "stream",
     "text": [
      "\n",
      "Concatenated without space: 'Goodbuntag'\n"
     ]
    }
   ],
   "source": [
    "string1 = \"Good\"\n",
    "string2 = \"buntag\"\n",
    "concatenated = string1 + string2\n",
    "print(f\"\\nConcatenated without space: '{concatenated}'\")"
   ]
  },
  {
   "cell_type": "code",
   "execution_count": 19,
   "id": "04f4e7f5-3deb-4275-a4a5-3885122fadab",
   "metadata": {},
   "outputs": [
    {
     "name": "stdout",
     "output_type": "stream",
     "text": [
      "Concatenated with space: 'Good Morning'\n"
     ]
    }
   ],
   "source": [
    "with_space = string1 + \" \" + string2\n",
    "print(f\"Concatenated with space: '{with_space}'\")"
   ]
  },
  {
   "cell_type": "code",
   "execution_count": 21,
   "id": "3ad3ce6b-4d9d-4eb5-93ee-3c263e8a80bd",
   "metadata": {},
   "outputs": [
    {
     "name": "stdout",
     "output_type": "stream",
     "text": [
      "fox\n"
     ]
    }
   ],
   "source": [
    "long_string = \"The quick brown fox jumped over the lazy dog. #1234567890!\"\n",
    "fox = long_string[16:19]\n",
    "print(fox)"
   ]
  },
  {
   "cell_type": "markdown",
   "id": "a40d2af5-dab7-4d5f-9642-40caafb9af60",
   "metadata": {},
   "source": [
    "# Review Question 2"
   ]
  },
  {
   "cell_type": "code",
   "execution_count": 2,
   "id": "c6a4c85b-e4be-4529-99fe-9c6fc4138658",
   "metadata": {},
   "outputs": [
    {
     "name": "stdout",
     "output_type": "stream",
     "text": [
      "animals\n",
      "badger\n",
      "honey bee\n",
      "honeybadger\n"
     ]
    }
   ],
   "source": [
    "strings = [\"Animals\", \"Badger\", \"Honey Bee\", \"Honeybadger\"]\n",
    "for s in strings:\n",
    "    print(s.lower())"
   ]
  },
  {
   "cell_type": "code",
   "execution_count": 3,
   "id": "cb3afa42-f558-4991-84e1-483370518753",
   "metadata": {},
   "outputs": [
    {
     "name": "stdout",
     "output_type": "stream",
     "text": [
      "ANIMALS\n",
      "BADGER\n",
      "HONEY BEE\n",
      "HONEYBADGER\n"
     ]
    }
   ],
   "source": [
    "strings = [\"Animals\", \"Badger\", \"Honey Bee\", \"Honeybadger\"]\n",
    "for s in strings:\n",
    "    print(s.upper())"
   ]
  },
  {
   "cell_type": "code",
   "execution_count": 4,
   "id": "b4213bbf-3e4f-4ebf-a4dd-29b2f2059ee3",
   "metadata": {},
   "outputs": [
    {
     "name": "stdout",
     "output_type": "stream",
     "text": [
      "Filet Mignon\n",
      "Brisket\n"
     ]
    }
   ],
   "source": [
    "string1 = \" Filet Mignon\"\n",
    "string2 = \"Brisket \"\n",
    "print(string1.strip())\n",
    "print(string2.strip())"
   ]
  },
  {
   "cell_type": "code",
   "execution_count": 6,
   "id": "5947d560-8dc5-4e5e-8bad-181b7a07ffc1",
   "metadata": {},
   "outputs": [
    {
     "name": "stdout",
     "output_type": "stream",
     "text": [
      "False\n",
      "True\n"
     ]
    }
   ],
   "source": [
    "string1 = \"Becomes\"\n",
    "string2 = \"becomes\"\n",
    "print(string1.startswith(\"be\"))\n",
    "print(string2.startswith(\"be\"))"
   ]
  },
  {
   "cell_type": "code",
   "execution_count": 5,
   "id": "acf6d09c-4181-445a-83dd-851206645b3c",
   "metadata": {},
   "outputs": [
    {
     "name": "stdout",
     "output_type": "stream",
     "text": [
      "beecomes\n",
      "becomes\n"
     ]
    }
   ],
   "source": [
    "string1 = \"Becomes\"\n",
    "string2 = \"becomes\"\n",
    "\n",
    "string1_modified = \"be\" + string1[1:].lower()\n",
    "string2_modified = \"be\" + string2[2:]\n",
    "print(string1_modified)  \n",
    "print(string2_modified)  "
   ]
  },
  {
   "cell_type": "markdown",
   "id": "ebf767a1-9cb6-478c-9474-f0238f8b692f",
   "metadata": {},
   "source": [
    "# Review Question 3"
   ]
  },
  {
   "cell_type": "code",
   "execution_count": 25,
   "id": "481ed644-61c4-40f0-89e8-15c8123b747f",
   "metadata": {},
   "outputs": [
    {
     "name": "stdin",
     "output_type": "stream",
     "text": [
      "Please enter something:  i love cebu\n"
     ]
    },
    {
     "name": "stdout",
     "output_type": "stream",
     "text": [
      "You entered: i love cebu\n"
     ]
    }
   ],
   "source": [
    "user = input(\"Please enter something: \")\n",
    "print(\"You entered:\", user)"
   ]
  },
  {
   "cell_type": "code",
   "execution_count": 37,
   "id": "849bfe30-85f5-4db3-aabb-48f64f739506",
   "metadata": {},
   "outputs": [
    {
     "name": "stdin",
     "output_type": "stream",
     "text": [
      "Please enter something:  MINECRAFT\n"
     ]
    },
    {
     "name": "stdout",
     "output_type": "stream",
     "text": [
      "This is the lowercase version: minecraft\n"
     ]
    }
   ],
   "source": [
    "usert = input(\"Please enter something: \")\n",
    "print(\"This is the lowercase version:\", usert.lower())"
   ]
  },
  {
   "cell_type": "code",
   "execution_count": 38,
   "id": "8c876a19-31a1-4c4d-bc8f-08f65a00cf39",
   "metadata": {},
   "outputs": [
    {
     "name": "stdin",
     "output_type": "stream",
     "text": [
      "Enter some characters:  Batman\n"
     ]
    },
    {
     "name": "stdout",
     "output_type": "stream",
     "text": [
      "You entered 6 characters.\n"
     ]
    }
   ],
   "source": [
    "user_input = input(\"Enter some characters: \")\n",
    "num_characters = len(user_input)\n",
    "print(f\"You entered {num_characters} characters.\")"
   ]
  },
  {
   "cell_type": "markdown",
   "id": "c2f516ee-26fe-40d3-8c2c-eec30461a5e9",
   "metadata": {},
   "source": [
    "# Review Question 4\n"
   ]
  },
  {
   "cell_type": "code",
   "execution_count": 39,
   "id": "fe6bbc46-cb7d-44b1-93c3-6d70507ea8fd",
   "metadata": {},
   "outputs": [
    {
     "name": "stdin",
     "output_type": "stream",
     "text": [
      "Tell me your Naem:  hanz\n"
     ]
    },
    {
     "name": "stdout",
     "output_type": "stream",
     "text": [
      "The first letter of your name is: H\n"
     ]
    }
   ],
   "source": [
    "name = input(\"Tell me your Naem: \")\n",
    "\n",
    "if name:\n",
    "    first_letter = name[0].upper()\n",
    "    print(\"The first letter of your name is:\", first_letter)\n",
    "else:\n",
    "    print(\"You didn't enter a name.\")\n"
   ]
  },
  {
   "cell_type": "markdown",
   "id": "8c20eff8-115e-4d1c-b44e-588223122785",
   "metadata": {},
   "source": [
    "# Review Question 5\n"
   ]
  },
  {
   "cell_type": "code",
   "execution_count": 40,
   "id": "a9448de6-0f2b-4e70-b769-2c2bc141b0b8",
   "metadata": {},
   "outputs": [
    {
     "name": "stdout",
     "output_type": "stream",
     "text": [
      "715\n"
     ]
    }
   ],
   "source": [
    "number_str = \"143\"\n",
    "number_int = int(number_str)\n",
    "result = number_int * 5\n",
    "print(result)\n"
   ]
  },
  {
   "cell_type": "code",
   "execution_count": 41,
   "id": "2974990f-2a8f-447b-8d0d-4def7ee4497f",
   "metadata": {},
   "outputs": [
    {
     "name": "stdout",
     "output_type": "stream",
     "text": [
      "717.5\n"
     ]
    }
   ],
   "source": [
    "number_str = \"143.5\"\n",
    "number_float = float(number_str)\n",
    "result = number_float * 5\n",
    "print(result)\n"
   ]
  },
  {
   "cell_type": "code",
   "execution_count": 43,
   "id": "c580a1c4-4948-444b-94fc-c16c4baa83c3",
   "metadata": {},
   "outputs": [
    {
     "name": "stdout",
     "output_type": "stream",
     "text": [
      "Hallo 456\n"
     ]
    }
   ],
   "source": [
    "string_obj = \"Hallo\"\n",
    "int_obj = 456\n",
    "\n",
    "print(string_obj + \" \" + str(int_obj))\n"
   ]
  },
  {
   "cell_type": "code",
   "execution_count": 44,
   "id": "9d09d4d3-b410-4dd4-bdac-ae52e0e00a7b",
   "metadata": {},
   "outputs": [
    {
     "name": "stdin",
     "output_type": "stream",
     "text": [
      "Enter the first number:  123\n",
      "Enter the second number:  321\n"
     ]
    },
    {
     "name": "stdout",
     "output_type": "stream",
     "text": [
      "The result is: 39483.0\n"
     ]
    }
   ],
   "source": [
    "num1 = input(\"Enter the first number: \")\n",
    "num2 = input(\"Enter the second number: \")\n",
    "\n",
    "result = float(num1) * float(num2)\n",
    "\n",
    "print(\"The result is:\", result)\n"
   ]
  },
  {
   "cell_type": "markdown",
   "id": "25ccf345-c8d4-403f-a837-41def33a8d72",
   "metadata": {},
   "source": [
    "# Review Question 6\n",
    "\n",
    "    "
   ]
  },
  {
   "cell_type": "code",
   "execution_count": 1,
   "id": "afeeee2c-a9a4-41b1-9187-d8db13e2253d",
   "metadata": {},
   "outputs": [
    {
     "name": "stdout",
     "output_type": "stream",
     "text": [
      "-1\n"
     ]
    }
   ],
   "source": [
    "print(\"AAA\".find(\"a\"))"
   ]
  },
  {
   "cell_type": "code",
   "execution_count": 7,
   "id": "bb05cbc9-966e-4777-a92c-db433a053a80",
   "metadata": {},
   "outputs": [
    {
     "name": "stdout",
     "output_type": "stream",
     "text": [
      "Somebody yaid yomething to Samantha\n"
     ]
    }
   ],
   "source": [
    "human1 = \"Somebody said something to Samantha\"\n",
    "print(human1.replace(\"s\",\"y\"))"
   ]
  },
  {
   "cell_type": "code",
   "execution_count": 24,
   "id": "b70432b8-7b65-4013-acfd-c91e38bab10c",
   "metadata": {},
   "outputs": [
    {
     "name": "stdout",
     "output_type": "stream",
     "text": [
      "Please input a String:\n"
     ]
    },
    {
     "name": "stdin",
     "output_type": "stream",
     "text": [
      " wow\n"
     ]
    },
    {
     "name": "stdout",
     "output_type": "stream",
     "text": [
      "Enter the letter you want to find:\n"
     ]
    },
    {
     "name": "stdin",
     "output_type": "stream",
     "text": [
      " o\n"
     ]
    },
    {
     "name": "stdout",
     "output_type": "stream",
     "text": [
      "You found it at position 1\n"
     ]
    }
   ],
   "source": [
    "inpT = \"Please input a String:\"\n",
    "inpL = \"Enter the letter you want to find:\"\n",
    "\n",
    "print(inpT)\n",
    "name = input()\n",
    "\n",
    "print(inpL)\n",
    "letter = input()\n",
    "\n",
    "position = name.find(letter)\n",
    "\n",
    "if position != -1:\n",
    "    print(f\"You found it at position {position}\")\n",
    "else:\n",
    "    print(\"You did not find the letter.\")\n"
   ]
  },
  {
   "cell_type": "code",
   "execution_count": 25,
   "id": "cecdd1c0-f1cb-47b5-8818-f8a1043d7a87",
   "metadata": {},
   "outputs": [
    {
     "name": "stdin",
     "output_type": "stream",
     "text": [
      "Enter some text:  i like to eat eggs and spam.\n"
     ]
    },
    {
     "name": "stdout",
     "output_type": "stream",
     "text": [
      "i 1ik3 70 347 3gg5 4nd 5p4m.\n"
     ]
    }
   ],
   "source": [
    "text = input(\"Enter some text: \")\n",
    "\n",
    "text = text.lower()\n",
    "\n",
    "text = text.replace('a', '4')\n",
    "text = text.replace('b', '8')\n",
    "text = text.replace('e', '3')\n",
    "text = text.replace('l', '1')\n",
    "text = text.replace('o', '0')\n",
    "text = text.replace('s', '5')\n",
    "text = text.replace('t', '7')\n",
    "\n",
    "print(text)\n"
   ]
  },
  {
   "cell_type": "code",
   "execution_count": null,
   "id": "a93ea550-f9a1-403b-bdc9-364d7ef8824f",
   "metadata": {},
   "outputs": [],
   "source": []
  }
 ],
 "metadata": {
  "kernelspec": {
   "display_name": "Python 3 (ipykernel)",
   "language": "python",
   "name": "python3"
  },
  "language_info": {
   "codemirror_mode": {
    "name": "ipython",
    "version": 3
   },
   "file_extension": ".py",
   "mimetype": "text/x-python",
   "name": "python",
   "nbconvert_exporter": "python",
   "pygments_lexer": "ipython3",
   "version": "3.13.5"
  }
 },
 "nbformat": 4,
 "nbformat_minor": 5
}
