{
 "cells": [
  {
   "cell_type": "markdown",
   "id": "b84aa5b3-2091-4f40-9de7-fcfd880cc8e4",
   "metadata": {},
   "source": [
    "# Rallos, Christ Hanzen                             BSIT-3"
   ]
  },
  {
   "cell_type": "markdown",
   "id": "83a01c35-5826-4b57-8ff1-a5dded31dc2a",
   "metadata": {},
   "source": [
    "# Review Question 1"
   ]
  },
  {
   "cell_type": "code",
   "execution_count": 1,
   "id": "3e554ada-5430-42e2-8e9a-e4ce3cb07bea",
   "metadata": {},
   "outputs": [
    {
     "name": "stdout",
     "output_type": "stream",
     "text": [
      "('FIRST', 'SECOND', 'THIRD')\n"
     ]
    }
   ],
   "source": [
    "Cardinal_Numbers = (\"FIRST\", \"SECOND\", \"THIRD\")\n",
    "print(Cardinal_Numbers)"
   ]
  },
  {
   "cell_type": "code",
   "execution_count": 4,
   "id": "12d72297-97c6-40bf-94af-58b728e027c2",
   "metadata": {},
   "outputs": [
    {
     "name": "stdout",
     "output_type": "stream",
     "text": [
      "SECOND\n"
     ]
    }
   ],
   "source": [
    "CARDINAL_NUMBERS = (\"FIRST\", \"SECOND\", \"THIRD\")\n",
    "print(CARDINAL_NUMBERS[1])"
   ]
  },
  {
   "cell_type": "code",
   "execution_count": 5,
   "id": "557fde3b-12ac-4165-a089-bf5996112096",
   "metadata": {},
   "outputs": [
    {
     "name": "stdout",
     "output_type": "stream",
     "text": [
      "FIRST\n",
      "SECOND\n",
      "THIRD\n"
     ]
    }
   ],
   "source": [
    "position1, position2, position3 = Cardinal_Numbers\n",
    "print(position1)\n",
    "print(position2)\n",
    "print(position3)"
   ]
  },
  {
   "cell_type": "code",
   "execution_count": 10,
   "id": "e2821a52-c116-4057-906c-f57c0866bf11",
   "metadata": {},
   "outputs": [
    {
     "name": "stdout",
     "output_type": "stream",
     "text": [
      "('K', 'r', 'a', 'y', 's', 's', 's', 't')\n"
     ]
    }
   ],
   "source": [
    "my_name = tuple(\"Krayssst\")\n",
    "print(my_name)"
   ]
  },
  {
   "cell_type": "code",
   "execution_count": 11,
   "id": "c85ec424-a1b7-46ac-8aeb-2ca872282d1c",
   "metadata": {},
   "outputs": [
    {
     "name": "stdout",
     "output_type": "stream",
     "text": [
      "False\n"
     ]
    }
   ],
   "source": [
    "print('x' in my_name)"
   ]
  },
  {
   "cell_type": "code",
   "execution_count": 12,
   "id": "c2c914f5-e292-45ad-8c6a-480a5fade9ed",
   "metadata": {},
   "outputs": [
    {
     "name": "stdout",
     "output_type": "stream",
     "text": [
      "('r', 'a', 'y', 's', 's', 's', 't')\n"
     ]
    }
   ],
   "source": [
    "first_letter_in_my_name = tuple(my_name[1::])\n",
    "print(first_letter_in_my_name)"
   ]
  },
  {
   "cell_type": "markdown",
   "id": "05a98d86-3701-441f-b427-f30ab484351f",
   "metadata": {},
   "source": [
    "# Review Question 2"
   ]
  },
  {
   "cell_type": "code",
   "execution_count": 13,
   "id": "d1f79a88-8762-4d1d-994a-95939d972b16",
   "metadata": {},
   "outputs": [
    {
     "name": "stdout",
     "output_type": "stream",
     "text": [
      "['Rice', 'Beans']\n"
     ]
    }
   ],
   "source": [
    "food = [\"Rice\", \"Beans\"]\n",
    "print(food)"
   ]
  },
  {
   "cell_type": "code",
   "execution_count": 18,
   "id": "de372075-b6c8-47c3-8cc4-59c0043bcd43",
   "metadata": {},
   "outputs": [],
   "source": [
    "food.append(\"Broccoli\")"
   ]
  },
  {
   "cell_type": "code",
   "execution_count": 20,
   "id": "94b3669e-c8b5-47a5-a20c-05a4ba8d460b",
   "metadata": {},
   "outputs": [],
   "source": [
    "food.extend([\"BREAD\", \"PIZZA\"])"
   ]
  },
  {
   "cell_type": "code",
   "execution_count": 22,
   "id": "97a9f998-900d-43b7-b3ac-1d36a28f8f5b",
   "metadata": {},
   "outputs": [
    {
     "name": "stdout",
     "output_type": "stream",
     "text": [
      "['Rice', 'Beans']\n"
     ]
    }
   ],
   "source": [
    "print(food[0:2])"
   ]
  },
  {
   "cell_type": "code",
   "execution_count": 23,
   "id": "099ae0a7-b04b-4752-b90a-5a09a75199e6",
   "metadata": {},
   "outputs": [
    {
     "name": "stdout",
     "output_type": "stream",
     "text": [
      "Broccoli\n"
     ]
    }
   ],
   "source": [
    "print(food[4])"
   ]
  },
  {
   "cell_type": "code",
   "execution_count": 25,
   "id": "08d3fb3c-f1b9-48b0-93f1-25e6fff16591",
   "metadata": {},
   "outputs": [],
   "source": [
    "Breakfast = \"EGGS FRUIT ORANGE-JUICE\"\n",
    "String = Breakfast.split()"
   ]
  },
  {
   "cell_type": "code",
   "execution_count": 28,
   "id": "dd66e02c-3117-4e49-9387-13b2052a8f25",
   "metadata": {},
   "outputs": [
    {
     "data": {
      "text/plain": [
       "3"
      ]
     },
     "execution_count": 28,
     "metadata": {},
     "output_type": "execute_result"
    }
   ],
   "source": [
    "len(String)"
   ]
  },
  {
   "cell_type": "code",
   "execution_count": 29,
   "id": "02c6ca20-3330-4684-8cfc-f0cadfb07194",
   "metadata": {},
   "outputs": [
    {
     "name": "stdout",
     "output_type": "stream",
     "text": [
      "[4, 5, 12]\n"
     ]
    }
   ],
   "source": [
    "Lengths = [len(food) for food in String]\n",
    "print(Lengths)"
   ]
  },
  {
   "cell_type": "markdown",
   "id": "393e087a-2908-4c3a-b523-df7d5e37d078",
   "metadata": {},
   "source": [
    "# Review Question 3"
   ]
  },
  {
   "cell_type": "code",
   "execution_count": 30,
   "id": "011df1f5-011a-47cf-93b4-c4dad3d8e989",
   "metadata": {},
   "outputs": [
    {
     "name": "stdout",
     "output_type": "stream",
     "text": [
      "((1, 2), (3, 4))\n"
     ]
    }
   ],
   "source": [
    "tuple_data = ((1,2), (3,4))\n",
    "print(tuple_data)"
   ]
  },
  {
   "cell_type": "code",
   "execution_count": 31,
   "id": "f668086f-9517-4763-acd3-fd47653edeac",
   "metadata": {},
   "outputs": [
    {
     "name": "stdout",
     "output_type": "stream",
     "text": [
      "Row: 1, Sum: 3\n",
      "Row: 2, Sum: 7\n"
     ]
    }
   ],
   "source": [
    "for row in range(len(tuple_data)):\n",
    "    sum = 0\n",
    "    for value in tuple_data[row]:\n",
    "        sum += value\n",
    "    print(f\"Row: {row+1}, Sum: {sum}\") "
   ]
  },
  {
   "cell_type": "code",
   "execution_count": 32,
   "id": "bce6e5b6-f2c5-4b52-84fb-f5f9304c619b",
   "metadata": {},
   "outputs": [
    {
     "name": "stdout",
     "output_type": "stream",
     "text": [
      "[2, 3, 4, 9, 1, 7]\n"
     ]
    }
   ],
   "source": [
    "num_list = [2,3,4,9,1,7]\n",
    "numbers = num_list[:]\n",
    "print(numbers)"
   ]
  },
  {
   "cell_type": "code",
   "execution_count": 33,
   "id": "6bbc0fc5-232b-4e82-892c-5f1f57d91dfe",
   "metadata": {},
   "outputs": [
    {
     "name": "stdout",
     "output_type": "stream",
     "text": [
      "[1, 2, 3, 4, 7, 9]\n"
     ]
    }
   ],
   "source": [
    "num_list.sort()\n",
    "print(num_list)"
   ]
  },
  {
   "cell_type": "markdown",
   "id": "eb7a0b9e-6b9c-471f-ba4f-2630309c55f5",
   "metadata": {},
   "source": [
    "# Challenge: List of Lists"
   ]
  },
  {
   "cell_type": "code",
   "execution_count": 34,
   "id": "e218f84b-96eb-4c01-82ce-7e00730049b0",
   "metadata": {},
   "outputs": [
    {
     "name": "stdout",
     "output_type": "stream",
     "text": [
      "[['California Institute of Technology', 2175, 37704], ['Harvard', 19627, 39849], ['Massachusetts Institute of Technology', 10566, 40732], ['Princeton', 7802, 37000], ['Rice', 5879, 35551], ['Stanford', 19535, 40569], ['Yale', 11701, 40500]]\n"
     ]
    }
   ],
   "source": [
    "universities = [\n",
    "    ['California Institute of Technology', 2175, 37704],\n",
    "    ['Harvard', 19627, 39849],\n",
    "    ['Massachusetts Institute of Technology', 10566, 40732],\n",
    "    ['Princeton', 7802, 37000],\n",
    "    ['Rice', 5879, 35551],\n",
    "    ['Stanford', 19535, 40569],\n",
    "    ['Yale', 11701, 40500]\n",
    "]\n",
    "print(universities)"
   ]
  },
  {
   "cell_type": "markdown",
   "id": "229241f2-52eb-47bd-b3e0-c7da8c8f586b",
   "metadata": {},
   "source": [
    "# Challenge: Wax Poetic"
   ]
  },
  {
   "cell_type": "code",
   "execution_count": 35,
   "id": "7f750cb1-ad52-4c7a-aa75-645d242245e9",
   "metadata": {},
   "outputs": [
    {
     "name": "stdout",
     "output_type": "stream",
     "text": [
      "['FOSSIL', 'HORSE', 'AARDVARK', 'JUDGE', 'CHEF', 'MANGO', 'EXTROVERT', 'GORILLA']\n",
      "['KICKS', 'JINGLES', 'BOUNCES', 'SLURPS', 'MEOWS', 'EXPLODES', 'CURDLES']\n",
      "['FURRY', 'BALDING', 'INCREDULOUS', 'FRAGRANT', 'EXUBERANT', 'GLISTENING']\n",
      "['AGAINST', 'AFTER', 'INTO', 'BENEATH', 'UPON', 'FOR', 'IN', 'LIKE', 'OVER', 'WITHIN']\n",
      "['CURIOUSLY', 'FURIOUSLY', 'SENSUOUSLYEXTRAVAGANTLY', 'TANTALIZINLY']\n"
     ]
    }
   ],
   "source": [
    "NOUNS = [\"FOSSIL\", \"HORSE\", \"AARDVARK\", \"JUDGE\", \"CHEF\", \"MANGO\",\"EXTROVERT\", \"GORILLA\"]\n",
    "VERBS = [\"KICKS\", \"JINGLES\", \"BOUNCES\", \"SLURPS\", \"MEOWS\", \"EXPLODES\", \"CURDLES\"]\n",
    "ADJECTIVES = [\"FURRY\", \"BALDING\", \"INCREDULOUS\", \"FRAGRANT\", \"EXUBERANT\", \"GLISTENING\"]\n",
    "PREPOSITIONS = [\"AGAINST\", \"AFTER\", \"INTO\", \"BENEATH\", \"UPON\", \"FOR\", \"IN\", \"LIKE\", \"OVER\", \"WITHIN\"]\n",
    "ADVERBS = [\"CURIOUSLY\", \"FURIOUSLY\", \"SENSUOUSLY\" \"EXTRAVAGANTLY\", \"TANTALIZINLY\"]\n",
    "\n",
    "print(NOUNS)\n",
    "print(VERBS)\n",
    "print(ADJECTIVES)\n",
    "print(PREPOSITIONS)\n",
    "print(ADVERBS)"
   ]
  },
  {
   "cell_type": "markdown",
   "id": "aeaea3e9-1811-463e-a8d3-a3554a003b4e",
   "metadata": {},
   "source": [
    "# Review Question 4"
   ]
  },
  {
   "cell_type": "code",
   "execution_count": 57,
   "id": "8f4855e0-f462-44ec-9f4a-9116457c83c8",
   "metadata": {},
   "outputs": [
    {
     "name": "stdout",
     "output_type": "stream",
     "text": [
      "{}\n"
     ]
    }
   ],
   "source": [
    "captains = {}\n",
    "print(captains)"
   ]
  },
  {
   "cell_type": "code",
   "execution_count": 58,
   "id": "d4c3df11-73ac-4b7e-80ed-d8a39d1f7af6",
   "metadata": {},
   "outputs": [
    {
     "name": "stdout",
     "output_type": "stream",
     "text": [
      " 'Enterprise' : 'Picard' \n",
      " 'Voyager' : 'Janeway' \n",
      " 'Defiant' : 'Sisko' \n"
     ]
    }
   ],
   "source": [
    "captains['Enterprise'] = \"Picard\"\n",
    "captains[\"Voyager\"] = \"Janeway\"\n",
    "captains[\"Defiant\"] = \"Sisko\"\n",
    "\n",
    "for keys in captains:\n",
    "    print(f\" '{keys}' : '{captains[keys]}' \")"
   ]
  },
  {
   "cell_type": "code",
   "execution_count": 59,
   "id": "b96ea927-bfeb-452b-a573-5cebc879f02e",
   "metadata": {},
   "outputs": [
    {
     "name": "stdout",
     "output_type": "stream",
     "text": [
      " 'Enterprise' : 'Picard' \n",
      " 'Voyager' : 'Janeway' \n",
      " 'Defiant' : 'Sisko' \n",
      " 'Discovery' : 'Uknown' \n"
     ]
    }
   ],
   "source": [
    "if not (\"Enterprise\" in captains):\n",
    "    captaisn['Enterprise'] = 'Uknown'\n",
    "    \n",
    "if not (\"Discovery\" in captains):\n",
    "    captains['Discovery'] = 'Uknown'\n",
    "    \n",
    "for keys in captains:\n",
    "    print(f\" '{keys}' : '{captains[keys]}' \")"
   ]
  },
  {
   "cell_type": "code",
   "execution_count": 66,
   "id": "8c463aca-e92e-4492-8533-d43722da84c4",
   "metadata": {},
   "outputs": [
    {
     "name": "stdout",
     "output_type": "stream",
     "text": [
      " The Enterprise is captained by 'Picard' \n",
      " The Voyager is captained by 'Janeway' \n",
      " The Defiant is captained by 'Sisko' \n"
     ]
    }
   ],
   "source": [
    "for keys in captains:\n",
    "    \n",
    "    print(f\" The {keys} is captained by '{captains[keys]}' \")"
   ]
  },
  {
   "cell_type": "code",
   "execution_count": 76,
   "id": "2ac1578a-eff8-43c5-86b8-9383e683170e",
   "metadata": {},
   "outputs": [
    {
     "name": "stdout",
     "output_type": "stream",
     "text": [
      " 'Enterprise' : 'Picard' \n",
      " 'Voyager' : 'Janeway' \n",
      " 'Defiant' : 'Sisko' \n"
     ]
    }
   ],
   "source": [
    "for key in captains:\n",
    "    print(f\" '{key}' : '{captains[key]}' \")"
   ]
  },
  {
   "cell_type": "code",
   "execution_count": 77,
   "id": "f5c5ce14-ab71-4673-84e7-4dadc968fe06",
   "metadata": {},
   "outputs": [
    {
     "name": "stdout",
     "output_type": "stream",
     "text": [
      " 'Enterprise' : 'Picard' \n",
      " 'Voyager' : 'Janeway' \n",
      " 'Defiant' : 'Sisko' \n"
     ]
    }
   ],
   "source": [
    "key_value_pair = (\n",
    " ('Enterprise','Picard'), \n",
    " ('Voyager','Janeway'), \n",
    " ('Defiant','Sisko' ),\n",
    ")\n",
    "\n",
    "captains_new = dict(key_value_pair)\n",
    "\n",
    "for keys in captains_new:\n",
    "    print(f\" '{keys}' : '{captains_new[keys]}' \")"
   ]
  },
  {
   "cell_type": "markdown",
   "id": "2a452b2f-d98d-46bc-9755-f111c1b25d71",
   "metadata": {},
   "source": [
    "# Challenge: Capital City Loop"
   ]
  },
  {
   "cell_type": "code",
   "execution_count": 80,
   "id": "1425c676-a908-4bb1-b783-d506acabda2f",
   "metadata": {},
   "outputs": [
    {
     "name": "stdout",
     "output_type": "stream",
     "text": [
      "Type 'exit' anytime to quit.\n",
      "\n"
     ]
    },
    {
     "name": "stdin",
     "output_type": "stream",
     "text": [
      "What is the capital of Alabama?  cebu\n"
     ]
    },
    {
     "name": "stdout",
     "output_type": "stream",
     "text": [
      "Wrong! The capital of Alabama is Montgomery.\n",
      "\n"
     ]
    },
    {
     "name": "stdin",
     "output_type": "stream",
     "text": [
      "What is the capital of Alaska?  labangon\n"
     ]
    },
    {
     "name": "stdout",
     "output_type": "stream",
     "text": [
      "Wrong! The capital of Alaska is Juneau.\n",
      "\n"
     ]
    },
    {
     "name": "stdin",
     "output_type": "stream",
     "text": [
      "What is the capital of Arizona?  mania\n"
     ]
    },
    {
     "name": "stdout",
     "output_type": "stream",
     "text": [
      "Wrong! The capital of Arizona is Phoenix.\n",
      "\n"
     ]
    },
    {
     "name": "stdin",
     "output_type": "stream",
     "text": [
      "What is the capital of Arkansas?  Little Rock\n"
     ]
    },
    {
     "name": "stdout",
     "output_type": "stream",
     "text": [
      " Correct!\n",
      "\n"
     ]
    },
    {
     "name": "stdin",
     "output_type": "stream",
     "text": [
      "What is the capital of California?  Sacramento\n"
     ]
    },
    {
     "name": "stdout",
     "output_type": "stream",
     "text": [
      " Correct!\n",
      "\n"
     ]
    },
    {
     "name": "stdin",
     "output_type": "stream",
     "text": [
      "What is the capital of Colorado?  Atlanta\n"
     ]
    },
    {
     "name": "stdout",
     "output_type": "stream",
     "text": [
      "Wrong! The capital of Colorado is Denver.\n",
      "\n"
     ]
    },
    {
     "name": "stdin",
     "output_type": "stream",
     "text": [
      "What is the capital of Connecticut?  exit\n"
     ]
    },
    {
     "name": "stdout",
     "output_type": "stream",
     "text": [
      "Exiting the quiz. Goodbye!\n"
     ]
    }
   ],
   "source": [
    "capitals_dict = {\n",
    "    'Alabama': 'Montgomery',\n",
    "    'Alaska': 'Juneau',\n",
    "    'Arizona': 'Phoenix',\n",
    "    'Arkansas': 'Little Rock',\n",
    "    'California': 'Sacramento',\n",
    "    'Colorado': 'Denver',\n",
    "    'Connecticut': 'Hartford',\n",
    "    'Delaware': 'Dover',\n",
    "    'Florida': 'Tallahassee',\n",
    "    'Georgia': 'Atlanta',\n",
    "}\n",
    "\n",
    "print(\"Type 'exit' anytime to quit.\\n\")\n",
    "\n",
    "for state, capital in capitals_dict.items():\n",
    "    answer = input(f\"What is the capital of {state}? \").strip()\n",
    "\n",
    "    if answer.lower() == \"exit\":\n",
    "        print(\"Exiting the quiz. Goodbye!\")\n",
    "        break\n",
    "    if answer.lower() == capital.lower():\n",
    "        print(\" Correct!\\n\")\n",
    "    else:\n",
    "        print(f\"Wrong! The capital of {state} is {capital}.\\n\")"
   ]
  },
  {
   "cell_type": "code",
   "execution_count": null,
   "id": "184735d8-bc6d-479f-8c54-9ee86759ed7c",
   "metadata": {},
   "outputs": [],
   "source": []
  }
 ],
 "metadata": {
  "kernelspec": {
   "display_name": "Python 3 (ipykernel)",
   "language": "python",
   "name": "python3"
  },
  "language_info": {
   "codemirror_mode": {
    "name": "ipython",
    "version": 3
   },
   "file_extension": ".py",
   "mimetype": "text/x-python",
   "name": "python",
   "nbconvert_exporter": "python",
   "pygments_lexer": "ipython3",
   "version": "3.13.5"
  }
 },
 "nbformat": 4,
 "nbformat_minor": 5
}
