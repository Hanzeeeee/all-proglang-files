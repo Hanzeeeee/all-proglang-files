{
 "cells": [
  {
   "cell_type": "markdown",
   "id": "1f7a4d14-5bcb-4caf-a2b9-c56dec64ee82",
   "metadata": {},
   "source": [
    "# 1st Long Exam Date: 09/10/25"
   ]
  },
  {
   "cell_type": "markdown",
   "id": "8fefdbf3-152b-4a9c-9fde-d5b9b17ac4e7",
   "metadata": {},
   "source": [
    "# CHRIST HANZEN Q. RALLOS BSIT 3/NB   ID:23809957"
   ]
  },
  {
   "cell_type": "markdown",
   "id": "36b20af8-2c5c-4418-b8bd-64eb5745341e",
   "metadata": {},
   "source": [
    "# QUESTION 1"
   ]
  },
  {
   "cell_type": "code",
   "execution_count": 17,
   "id": "944d393e-a527-4dec-9a10-d49cef4a6584",
   "metadata": {},
   "outputs": [
    {
     "name": "stdin",
     "output_type": "stream",
     "text": [
      "Enter your name: Rallos\n"
     ]
    },
    {
     "name": "stdout",
     "output_type": "stream",
     "text": [
      "Hello Rallos\n"
     ]
    }
   ],
   "source": [
    "name = input(\"Enter your name:\")\n",
    "print(\"Hello\",name)\n"
   ]
  },
  {
   "cell_type": "markdown",
   "id": "c3131c3f-faba-4656-bb46-ed6f3d6b1d0d",
   "metadata": {},
   "source": [
    "# QUESTION 2"
   ]
  },
  {
   "cell_type": "code",
   "execution_count": 41,
   "id": "7237fe73-8dfa-4d99-89c4-d24ebea8263a",
   "metadata": {},
   "outputs": [
    {
     "name": "stdin",
     "output_type": "stream",
     "text": [
      "Enter a positive integer: 1\n"
     ]
    },
    {
     "ename": "TypeError",
     "evalue": "'int' object is not callable",
     "output_type": "error",
     "traceback": [
      "\u001b[1;31m---------------------------------------------------------------------------\u001b[0m",
      "\u001b[1;31mTypeError\u001b[0m                                 Traceback (most recent call last)",
      "Cell \u001b[1;32mIn[41], line 2\u001b[0m\n\u001b[0;32m      1\u001b[0m n \u001b[38;5;241m=\u001b[39m \u001b[38;5;28mint\u001b[39m(\u001b[38;5;28minput\u001b[39m(\u001b[38;5;124m\"\u001b[39m\u001b[38;5;124mEnter a positive integer:\u001b[39m\u001b[38;5;124m\"\u001b[39m))\n\u001b[1;32m----> 2\u001b[0m \u001b[38;5;28;01mif\u001b[39;00m n (s \u001b[38;5;241m=\u001b[39m n \u001b[38;5;241m*\u001b[39m (n\u001b[38;5;241m+\u001b[39m\u001b[38;5;241m1\u001b[39m)\u001b[38;5;241m/\u001b[39m\u001b[38;5;241m/\u001b[39m\u001b[38;5;241m2\u001b[39m):\n\u001b[0;32m      3\u001b[0m     \u001b[38;5;28mprint\u001b[39m(\u001b[38;5;124m\"\u001b[39m\u001b[38;5;124mThe Sum Form 1 to\u001b[39m\u001b[38;5;124m\"\u001b[39m,n,\u001b[38;5;124m\"\u001b[39m\u001b[38;5;124mis\u001b[39m\u001b[38;5;124m\"\u001b[39m,s)\n\u001b[0;32m      4\u001b[0m \u001b[38;5;28;01melse\u001b[39;00m:\n",
      "\u001b[1;31mTypeError\u001b[0m: 'int' object is not callable"
     ]
    }
   ],
   "source": [
    "n = int(input(\"Enter a positive integer:\"))\n",
    "if n (s = n * (n+1)//2):\n",
    "    print(\"The Sum Form 1 to\",n,\"is\",s)\n",
    "else:\n",
    "     print(\"Not a postive integer\")\n",
    "    "
   ]
  },
  {
   "cell_type": "markdown",
   "id": "41e45199-e8f2-44b7-b590-422535eac7a8",
   "metadata": {},
   "source": [
    "# QUESTION 3"
   ]
  },
  {
   "cell_type": "code",
   "execution_count": 40,
   "id": "e55469a9-00c1-47e8-8cbd-642cd3fd4085",
   "metadata": {},
   "outputs": [
    {
     "name": "stdin",
     "output_type": "stream",
     "text": [
      "Read a letter: 2\n"
     ]
    },
    {
     "ename": "AttributeError",
     "evalue": "'str' object has no attribute 'Lower'",
     "output_type": "error",
     "traceback": [
      "\u001b[1;31m---------------------------------------------------------------------------\u001b[0m",
      "\u001b[1;31mAttributeError\u001b[0m                            Traceback (most recent call last)",
      "Cell \u001b[1;32mIn[40], line 1\u001b[0m\n\u001b[1;32m----> 1\u001b[0m Letter \u001b[38;5;241m=\u001b[39m \u001b[38;5;28minput\u001b[39m(\u001b[38;5;124m\"\u001b[39m\u001b[38;5;124mRead a letter:\u001b[39m\u001b[38;5;124m\"\u001b[39m)\u001b[38;5;241m.\u001b[39mLower()\n\u001b[0;32m      2\u001b[0m \u001b[38;5;28;01mif\u001b[39;00m Letter (\u001b[38;5;124m\"\u001b[39m\u001b[38;5;124ma\u001b[39m\u001b[38;5;124m\"\u001b[39m,\u001b[38;5;124m\"\u001b[39m\u001b[38;5;124me\u001b[39m\u001b[38;5;124m\"\u001b[39m,\u001b[38;5;124m\"\u001b[39m\u001b[38;5;124mi\u001b[39m\u001b[38;5;124m\"\u001b[39m,\u001b[38;5;124m\"\u001b[39m\u001b[38;5;124mo\u001b[39m\u001b[38;5;124m\"\u001b[39m,\u001b[38;5;124m\"\u001b[39m\u001b[38;5;124mu\u001b[39m\u001b[38;5;124m\"\u001b[39m):\n\u001b[0;32m      3\u001b[0m     \u001b[38;5;28mprint\u001b[39m(\u001b[38;5;124m\"\u001b[39m\u001b[38;5;124mThe entered letter is a vowel.\u001b[39m\u001b[38;5;124m\"\u001b[39m)\n",
      "\u001b[1;31mAttributeError\u001b[0m: 'str' object has no attribute 'Lower'"
     ]
    }
   ],
   "source": [
    "Letter = input(\"Read a letter:\").Lower()\n",
    "if Letter (\"a\",\"e\",\"i\",\"o\",\"u\"):\n",
    "    print(\"The entered letter is a vowel.\")\n",
    "elif Letter == \"y\":\n",
    "    print(\"Sometimes y is a vowel, and sometimes y is a constant.\")\n",
    "else:\n",
    "    print(\"The letter is a consonant.\")"
   ]
  },
  {
   "cell_type": "markdown",
   "id": "16d4427d-47e4-48d9-8236-f03762bafb00",
   "metadata": {},
   "source": [
    "# QUESTION 4"
   ]
  },
  {
   "cell_type": "code",
   "execution_count": 43,
   "id": "4e966a4a-6c33-4fed-acf2-e1e1e1aea3f3",
   "metadata": {},
   "outputs": [
    {
     "ename": "SyntaxError",
     "evalue": "invalid syntax (4207296533.py, line 1)",
     "output_type": "error",
     "traceback": [
      "\u001b[1;36m  Cell \u001b[1;32mIn[43], line 1\u001b[1;36m\u001b[0m\n\u001b[1;33m    def = is.palindrome(text:Str).bool()\u001b[0m\n\u001b[1;37m        ^\u001b[0m\n\u001b[1;31mSyntaxError\u001b[0m\u001b[1;31m:\u001b[0m invalid syntax\n"
     ]
    }
   ],
   "source": [
    "def = is.palindrome(text:Str).bool()\n",
    "cleaned = Join(char.lower()for char in text)\n",
    "if char.isalnom()\n",
    "retured cleaned == cleanedp[::]\n",
    "word = input(\"Enter a word\")\n",
    "if is,palindorme(word)\n",
    "print(\"Yeah, is a palindrome\")\n",
    "else \n",
    "print(\"Not a palindrome\")"
   ]
  },
  {
   "cell_type": "code",
   "execution_count": null,
   "id": "1e94e2d0-236a-45e0-97ab-c71bc53ddf03",
   "metadata": {},
   "outputs": [],
   "source": []
  }
 ],
 "metadata": {
  "kernelspec": {
   "display_name": "Python 3 (ipykernel)",
   "language": "python",
   "name": "python3"
  },
  "language_info": {
   "codemirror_mode": {
    "name": "ipython",
    "version": 3
   },
   "file_extension": ".py",
   "mimetype": "text/x-python",
   "name": "python",
   "nbconvert_exporter": "python",
   "pygments_lexer": "ipython3",
   "version": "3.13.5"
  }
 },
 "nbformat": 4,
 "nbformat_minor": 5
}
