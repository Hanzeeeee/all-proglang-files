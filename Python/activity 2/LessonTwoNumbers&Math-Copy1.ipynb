{
 "cells": [
  {
   "cell_type": "markdown",
   "id": "484fb870-1855-40f8-81d3-105ff61cb896",
   "metadata": {},
   "source": [
    "# Review Question 1\n"
   ]
  },
  {
   "cell_type": "code",
   "execution_count": 1,
   "id": "87c3827f-288a-4864-b3ea-6cb265d043a4",
   "metadata": {},
   "outputs": [
    {
     "name": "stdout",
     "output_type": "stream",
     "text": [
      "25000000\n",
      "25000000\n"
     ]
    }
   ],
   "source": [
    "num1 = 25000000;\n",
    "num2 = 25_000_000;\n",
    "\n",
    "print(num1);\n",
    "print(num2);"
   ]
  },
  {
   "cell_type": "code",
   "execution_count": 2,
   "id": "d12b298e-dbd3-46df-9757-6db8449a8365",
   "metadata": {},
   "outputs": [
    {
     "name": "stdout",
     "output_type": "stream",
     "text": [
      "175000.0\n"
     ]
    }
   ],
   "source": [
    "num = 1.75 * 10 ** 5\n",
    "print(num)\n"
   ]
  },
  {
   "cell_type": "code",
   "execution_count": 4,
   "id": "9bdca821-402a-4485-b568-a00ba91d3564",
   "metadata": {},
   "outputs": [
    {
     "name": "stdout",
     "output_type": "stream",
     "text": [
      "The smallest number that returns infinite is  2e(308): inf\n"
     ]
    }
   ],
   "source": [
    "num = 2e308\n",
    "print(\"The smallest number that returns infinite is \",\"2e(308):\", num)\n"
   ]
  },
  {
   "cell_type": "markdown",
   "id": "103bb54b-f0dd-4dbb-9425-12cf94efb734",
   "metadata": {},
   "source": [
    "# Review Question 2"
   ]
  },
  {
   "cell_type": "code",
   "execution_count": 7,
   "id": "c3f66108-a019-472d-929d-1fd8ce7e7c62",
   "metadata": {},
   "outputs": [
    {
     "name": "stdin",
     "output_type": "stream",
     "text": [
      "Enter the base number:  856\n",
      "Enter the exponent number:  72\n"
     ]
    },
    {
     "name": "stdout",
     "output_type": "stream",
     "text": [
      "856.0 raised to the power of 72.0 is 1.3743933866971474e+211\n"
     ]
    }
   ],
   "source": [
    "base = float(input(\"Enter the base number: \"))\n",
    "exponent = float(input(\"Enter the exponent number: \"))\n",
    "result = base ** exponent\n",
    "print(f\"{base} raised to the power of {exponent} is {result}\")\n"
   ]
  },
  {
   "cell_type": "markdown",
   "id": "4e62c3f6-8163-4fed-9f14-a8f5fe9a1574",
   "metadata": {},
   "source": [
    "# Review Question 3"
   ]
  },
  {
   "cell_type": "code",
   "execution_count": 9,
   "id": "737cc079-4e72-449d-97a2-12628b1cfa2c",
   "metadata": {},
   "outputs": [
    {
     "name": "stdin",
     "output_type": "stream",
     "text": [
      "Enter a number:  14234694\n"
     ]
    },
    {
     "name": "stdout",
     "output_type": "stream",
     "text": [
      "The number 14234694 rounded to two decimal places is 14234694.0\n"
     ]
    }
   ],
   "source": [
    "value = input(\"Enter a number: \")\n",
    "rounded = round(float(value), 2)\n",
    "print(f\"The number {value} rounded to two decimal places is {rounded}\")\n"
   ]
  },
  {
   "cell_type": "code",
   "execution_count": 10,
   "id": "9bf9e25b-84bb-4d76-80ab-e6a3910dc09e",
   "metadata": {},
   "outputs": [
    {
     "name": "stdin",
     "output_type": "stream",
     "text": [
      "Enter a number:  864\n"
     ]
    },
    {
     "name": "stdout",
     "output_type": "stream",
     "text": [
      "The absolute value of 864 is 864.0\n"
     ]
    }
   ],
   "source": [
    "number = input(\"Enter a number: \")\n",
    "absolute_value = abs(float(number))\n",
    "print(f\"The absolute value of {number} is {absolute_value}\")\n"
   ]
  },
  {
   "cell_type": "markdown",
   "id": "f2f420a0-706b-436f-918e-c0b26796ad74",
   "metadata": {},
   "source": [
    "# Review Question 4"
   ]
  },
  {
   "cell_type": "code",
   "execution_count": 11,
   "id": "687655d7-f77e-4346-9075-eb6aa233dbed",
   "metadata": {},
   "outputs": [
    {
     "name": "stdin",
     "output_type": "stream",
     "text": [
      "Enter a number:  532\n",
      "Enter another number:  658\n"
     ]
    },
    {
     "name": "stdout",
     "output_type": "stream",
     "text": [
      "The difference between 532 and 658 is an integer? True !\n"
     ]
    }
   ],
   "source": [
    "num = input(\"Enter a number: \")\n",
    "num1 = input(\"Enter another number: \")\n",
    "\n",
    "difference = float(num) - float(num1)\n",
    "\n",
    "print(\"The difference between\", num, \"and\", num1, \"is an integer?\", difference.is_integer(), \"!\")\n"
   ]
  },
  {
   "cell_type": "markdown",
   "id": "208b3b7e-fbac-4ed1-9d54-0b06b11bb343",
   "metadata": {},
   "source": [
    "# Review Question 5"
   ]
  },
  {
   "cell_type": "code",
   "execution_count": 12,
   "id": "8b98f4cf-e48e-49f3-a52b-462aff7a547b",
   "metadata": {},
   "outputs": [
    {
     "name": "stdout",
     "output_type": "stream",
     "text": [
      "8th root of 3: 1.147\n"
     ]
    }
   ],
   "source": [
    "result = 3 ** 0.125\n",
    "print(f\"8th root of 3: {result:.3f}\")"
   ]
  },
  {
   "cell_type": "code",
   "execution_count": 13,
   "id": "3e5215ca-480c-4126-97f8-0187e2a08a84",
   "metadata": {},
   "outputs": [
    {
     "name": "stdout",
     "output_type": "stream",
     "text": [
      "Formatted amount: $150,000.00\n"
     ]
    }
   ],
   "source": [
    "amount = 150000\n",
    "print(f\"Formatted amount: ${amount:,.2f}\")"
   ]
  },
  {
   "cell_type": "code",
   "execution_count": 14,
   "id": "49fa57e1-426e-4c65-adfa-9bb66462a1d3",
   "metadata": {},
   "outputs": [
    {
     "name": "stdout",
     "output_type": "stream",
     "text": [
      "Percentage: 20%\n"
     ]
    }
   ],
   "source": [
    "result = 2 / 10\n",
    "print(f\"Percentage: {result:.0%}\")"
   ]
  }
 ],
 "metadata": {
  "kernelspec": {
   "display_name": "Python 3 (ipykernel)",
   "language": "python",
   "name": "python3"
  },
  "language_info": {
   "codemirror_mode": {
    "name": "ipython",
    "version": 3
   },
   "file_extension": ".py",
   "mimetype": "text/x-python",
   "name": "python",
   "nbconvert_exporter": "python",
   "pygments_lexer": "ipython3",
   "version": "3.13.5"
  }
 },
 "nbformat": 4,
 "nbformat_minor": 5
}
