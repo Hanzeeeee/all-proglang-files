{
 "cells": [
  {
   "cell_type": "markdown",
   "id": "4878356f-cb97-415e-94e3-3ec082c009b1",
   "metadata": {},
   "source": [
    "# REVIEW QUESTIONS 1"
   ]
  },
  {
   "cell_type": "code",
   "execution_count": 22,
   "id": "4e98b2ca-5fa4-4e6f-8822-c05a296ac18e",
   "metadata": {},
   "outputs": [
    {
     "name": "stdout",
     "output_type": "stream",
     "text": [
      "64\n",
      "216\n",
      "512\n"
     ]
    }
   ],
   "source": [
    "def cube(num):\n",
    "    return num**3\n",
    "print(cube(4))\n",
    "print(cube(6))\n",
    "print(cube(8))"
   ]
  },
  {
   "cell_type": "code",
   "execution_count": 23,
   "id": "88c9524d-ce03-4c08-8b07-13dcc01c11d0",
   "metadata": {},
   "outputs": [
    {
     "name": "stdout",
     "output_type": "stream",
     "text": [
      "Hello Hanz!\n"
     ]
    }
   ],
   "source": [
    "def greet(name):\n",
    "    print(f\"Hello {name}!\")\n",
    "greet(\"Hanz\")"
   ]
  },
  {
   "cell_type": "markdown",
   "id": "f4674a6f-c7a7-42ac-be52-5889adc77b2b",
   "metadata": {},
   "source": [
    "# Challenge Convert Temperatures"
   ]
  },
  {
   "cell_type": "code",
   "execution_count": 28,
   "id": "a7ebd621-f031-4135-b181-1f12158258a4",
   "metadata": {},
   "outputs": [
    {
     "name": "stdin",
     "output_type": "stream",
     "text": [
      "Input a temperature in degrees C:  37\n"
     ]
    },
    {
     "name": "stdout",
     "output_type": "stream",
     "text": [
      "37 degrees C = 98.60 degrees F\n"
     ]
    }
   ],
   "source": [
    "def convert_cel_to_far(degreesCelc):\n",
    "    return degreesCelc * (9.0 / 5.0) + 32\n",
    "cel = float(input(\"Input a temperature in degrees C: \"))\n",
    "converted_fahr = convert_cel_to_far(cel)\n",
    "print(f\"{cel:.0f} degrees C = {converted_fahr:.2f} degrees F\")\n"
   ]
  },
  {
   "cell_type": "code",
   "execution_count": 29,
   "id": "08c09cf0-8e49-4211-96bf-c3e3ca3cce1f",
   "metadata": {},
   "outputs": [
    {
     "name": "stdin",
     "output_type": "stream",
     "text": [
      "Input a temperature in degrees F:  72\n"
     ]
    },
    {
     "name": "stdout",
     "output_type": "stream",
     "text": [
      "72 degrees F = 22.22 degrees C\n"
     ]
    }
   ],
   "source": [
    "def convert_far_to_cel(degreesFahr):\n",
    "    return (degreesFahr - 32) * (5.0 / 9.0)\n",
    "fahr = float(input(\"Input a temperature in degrees F: \"))\n",
    "converted_cel = convert_far_to_cel(fahr)\n",
    "print(f\"{fahr:.0f} degrees F = {converted_cel:.2f} degrees C\")\n"
   ]
  },
  {
   "cell_type": "markdown",
   "id": "f9c40b0f-530d-4f22-bcff-e20c6a2a2566",
   "metadata": {},
   "source": [
    "# REVIEW QUESTIONS 2"
   ]
  },
  {
   "cell_type": "code",
   "execution_count": 30,
   "id": "cd868298-d94b-4e23-be5b-e0c4c0e34bf5",
   "metadata": {},
   "outputs": [
    {
     "name": "stdout",
     "output_type": "stream",
     "text": [
      "2\n",
      "3\n",
      "4\n",
      "5\n",
      "6\n",
      "7\n",
      "8\n",
      "9\n",
      "10\n"
     ]
    }
   ],
   "source": [
    "for i in range(2, 11):\n",
    "    print(i)"
   ]
  },
  {
   "cell_type": "code",
   "execution_count": 31,
   "id": "e1d37062-3034-43fe-b289-be1826ebff15",
   "metadata": {},
   "outputs": [
    {
     "name": "stdout",
     "output_type": "stream",
     "text": [
      "2\n",
      "3\n",
      "4\n",
      "5\n",
      "6\n",
      "7\n",
      "8\n",
      "9\n",
      "10\n"
     ]
    }
   ],
   "source": [
    "i = 2\n",
    "while i <= 10:\n",
    "    print(i)\n",
    "    i += 1"
   ]
  },
  {
   "cell_type": "code",
   "execution_count": 32,
   "id": "f70e07da-c4c6-46af-9459-906db3623aa5",
   "metadata": {},
   "outputs": [
    {
     "name": "stdout",
     "output_type": "stream",
     "text": [
      "4\n",
      "8\n",
      "16\n"
     ]
    }
   ],
   "source": [
    "def doubles(num):\n",
    "    return num * 2\n",
    "\n",
    "two = 2\n",
    "for i in range(3):\n",
    "    two = doubles(two)\n",
    "    print(two)"
   ]
  },
  {
   "cell_type": "code",
   "execution_count": null,
   "id": "29b59721-6145-462a-a75b-caf0690d0226",
   "metadata": {},
   "outputs": [],
   "source": []
  }
 ],
 "metadata": {
  "kernelspec": {
   "display_name": "Python 3 (ipykernel)",
   "language": "python",
   "name": "python3"
  },
  "language_info": {
   "codemirror_mode": {
    "name": "ipython",
    "version": 3
   },
   "file_extension": ".py",
   "mimetype": "text/x-python",
   "name": "python",
   "nbconvert_exporter": "python",
   "pygments_lexer": "ipython3",
   "version": "3.13.5"
  }
 },
 "nbformat": 4,
 "nbformat_minor": 5
}
